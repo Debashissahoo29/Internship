{
 "cells": [
  {
   "cell_type": "code",
   "execution_count": 1,
   "id": "25c1a3fb",
   "metadata": {},
   "outputs": [
    {
     "name": "stdout",
     "output_type": "stream",
     "text": [
      "Python:Exercises::PHP:exercises:\n"
     ]
    }
   ],
   "source": [
    "import re\n",
    "def replace_symbol(text):\n",
    "    pattern = r'[ ,.]'\n",
    "    replaced_text = re.sub(pattern,':',text)\n",
    "    return replaced_text\n",
    "Eg = 'Python Exercises, PHP exercises.'\n",
    "output = replace_symbol(Eg)\n",
    "print(output)"
   ]
  },
  {
   "cell_type": "code",
   "execution_count": 5,
   "id": "03c234eb",
   "metadata": {},
   "outputs": [
    {
     "name": "stdout",
     "output_type": "stream",
     "text": [
      "         SUMMARY\n",
      "0    hello world\n",
      "1     XXXXX test\n",
      "2  four five six\n"
     ]
    }
   ],
   "source": [
    "import pandas as pd\n",
    "import re\n",
    "data = {'SUMMARY' : ['hello, world!', 'XXXXX test', '123four, five:; six...']}\n",
    "df = pd.DataFrame(data)\n",
    "def clean_text(text):\n",
    "    cleaned_text = re.sub (r'[^a-zA-Z\\s ]',  '',text)\n",
    "    return cleaned_text.strip()\n",
    "df['SUMMARY'] = df['SUMMARY'].apply(clean_text)\n",
    "print(df)"
   ]
  },
  {
   "cell_type": "code",
   "execution_count": 8,
   "id": "19b0a441",
   "metadata": {},
   "outputs": [
    {
     "name": "stdout",
     "output_type": "stream",
     "text": [
      "['slow', 'stedy', 'wins', 'race']\n"
     ]
    }
   ],
   "source": [
    "import re\n",
    "def find_words(string):\n",
    "    pattern = re.compile(r'\\b\\w{4,}\\b')\n",
    "    return pattern.findall(string)\n",
    "string = 'slow and stedy wins the race.'\n",
    "words = find_words(string)\n",
    "print(words)"
   ]
  },
  {
   "cell_type": "code",
   "execution_count": 9,
   "id": "242a47b8",
   "metadata": {},
   "outputs": [
    {
     "name": "stdout",
     "output_type": "stream",
     "text": [
      "['stedy']\n"
     ]
    }
   ],
   "source": [
    "import re\n",
    "def find_words(string):\n",
    "    pattern = re.compile(r'\\b\\w{5,}\\b')\n",
    "    return pattern.findall(string)\n",
    "string = 'slow and stedy wins the race.'\n",
    "words = find_words(string)\n",
    "print(words)"
   ]
  },
  {
   "cell_type": "code",
   "execution_count": 161,
   "id": "f2c80f5c",
   "metadata": {},
   "outputs": [
    {
     "name": "stdout",
     "output_type": "stream",
     "text": [
      "['example', 'hr@fliprobo', 'github', 'Hello', 'Data']\n"
     ]
    }
   ],
   "source": [
    "import re\n",
    "def remove_paraentheses(strings):\n",
    "    pattern = re.compile(r'\\([^)]*\\)')\n",
    "    result = [pattern.sub('',string) for string in strings]\n",
    "    return result\n",
    "Eg = [\"example(.com)\", \"hr@fliprobo(.com)\", \"github(.com)\", \"Hello(Data Science World)\", \"Data(Scientist)\"]\n",
    "output = remove_paraentheses(Eg)\n",
    "print(output)"
   ]
  },
  {
   "cell_type": "code",
   "execution_count": 24,
   "id": "efaceae4",
   "metadata": {},
   "outputs": [
    {
     "name": "stdout",
     "output_type": "stream",
     "text": [
      "['example', 'hr@fliprobo', 'github', 'Hello ', 'Data ']\n"
     ]
    }
   ],
   "source": [
    "import re\n",
    "def remove_paraentheses(strings):\n",
    "    pattern = re.compile(r'\\([^)]*\\)')\n",
    "    result = [pattern.sub('', string) for string in strings]\n",
    "    return result\n",
    "Eg = ['example(.com)', 'hr@fliprobo(.com)', 'github(.com)', 'Hello (Data Science World)', 'Data (Scientist)']\n",
    "output = remove_paraentheses(Eg)\n",
    "print(output)"
   ]
  },
  {
   "cell_type": "code",
   "execution_count": 23,
   "id": "f8c7a1fb",
   "metadata": {},
   "outputs": [
    {
     "name": "stdout",
     "output_type": "stream",
     "text": [
      "['Importance', 'Of', 'Regular', 'Expressions', 'In', 'Python']\n"
     ]
    }
   ],
   "source": [
    "import re\n",
    "def split_string_by_uppercase(string):\n",
    "    result = re.findall('[A-Z][a-z]*',string)\n",
    "    return result\n",
    "text = 'ImportanceOfRegularExpressionsInPython'\n",
    "output = split_string_by_uppercase(text)\n",
    "print(output)"
   ]
  },
  {
   "cell_type": "code",
   "execution_count": 37,
   "id": "0620a7b3",
   "metadata": {},
   "outputs": [
    {
     "name": "stdout",
     "output_type": "stream",
     "text": [
      "RegularExpression 1 IsAn 2 ImportantTopic 3 InPython\n"
     ]
    }
   ],
   "source": [
    "import re\n",
    "def insert_space(string):\n",
    "    result = re.sub(r'(\\d)([A-Za-z])',r'\\1 \\2',string)\n",
    "    return result\n",
    "text = 'RegularExpression1IsAn2ImportantTopic3InPython'\n",
    "output = insert_space(text)\n",
    "print(output)"
   ]
  },
  {
   "cell_type": "code",
   "execution_count": 56,
   "id": "b6345a36",
   "metadata": {},
   "outputs": [
    {
     "name": "stdout",
     "output_type": "stream",
     "text": [
      " Regular Expression1 Is An2 Important Topic3 In Python\n"
     ]
    }
   ],
   "source": [
    "import re\n",
    "def insert_space_before_caps_or_numbers(string):\n",
    "    result = re.sub(r'([A-Z\\d])([a-z])', r' \\1\\2' ,string)\n",
    "    return result\n",
    "text = 'RegularExpression1IsAn2ImportantTopic3InPython'\n",
    "output = insert_space_before_caps_or_numbers(text)\n",
    "print(output)"
   ]
  },
  {
   "cell_type": "code",
   "execution_count": 58,
   "id": "2999e80f",
   "metadata": {},
   "outputs": [
    {
     "name": "stdout",
     "output_type": "stream",
     "text": [
      "       Country          Region  Happiness Rank  Happiness Score  \\\n",
      "0  Switzerland  Western Europe               1            7.587   \n",
      "1      Iceland  Western Europe               2            7.561   \n",
      "2      Denmark  Western Europe               3            7.527   \n",
      "3       Norway  Western Europe               4            7.522   \n",
      "4       Canada   North America               5            7.427   \n",
      "\n",
      "   Standard Error  Economy (GDP per Capita)   Family  \\\n",
      "0         0.03411                   1.39651  1.34951   \n",
      "1         0.04884                   1.30232  1.40223   \n",
      "2         0.03328                   1.32548  1.36058   \n",
      "3         0.03880                   1.45900  1.33095   \n",
      "4         0.03553                   1.32629  1.32261   \n",
      "\n",
      "   Health (Life Expectancy)  Freedom  Trust (Government Corruption)  \\\n",
      "0                   0.94143  0.66557                        0.41978   \n",
      "1                   0.94784  0.62877                        0.14145   \n",
      "2                   0.87464  0.64938                        0.48357   \n",
      "3                   0.88521  0.66973                        0.36503   \n",
      "4                   0.90563  0.63297                        0.32957   \n",
      "\n",
      "   Generosity  Dystopia Residual first_five  \n",
      "0     0.29678            2.51738     Switze  \n",
      "1     0.43630            2.70201     Icelan  \n",
      "2     0.34139            2.49204     Denmar  \n",
      "3     0.34699            2.46531     Norway  \n",
      "4     0.45811            2.45176     Canada  \n"
     ]
    }
   ],
   "source": [
    "import pandas as pd\n",
    "github_link = 'https://raw.githubusercontent.com/dsrscientist/DSData/master/happiness_score_dataset.csv'\n",
    "df = pd.read_csv(github_link )\n",
    "df['first_five'] = df['Country'].str[:6]\n",
    "print(df.head())"
   ]
  },
  {
   "cell_type": "code",
   "execution_count": 73,
   "id": "3c15020f",
   "metadata": {},
   "outputs": [
    {
     "name": "stdout",
     "output_type": "stream",
     "text": [
      " \"Debashis@\" is vallid False\n",
      " \"Sahoo_29\" is vallid True\n"
     ]
    }
   ],
   "source": [
    "import re\n",
    "def is_valid_string(string):\n",
    "    pattern = re.compile(r'^[a-zA-Z0-9_]+$')\n",
    "    return bool(pattern.match(string))\n",
    "text1 = \"Debashis@\"\n",
    "text2 = \"Sahoo_29\"\n",
    "print(f' \"{text1}\" is vallid {is_valid_string(text1)}')\n",
    "print(f' \"{text2}\" is vallid {is_valid_string(text2)}')"
   ]
  },
  {
   "cell_type": "code",
   "execution_count": 75,
   "id": "42ac4257",
   "metadata": {},
   "outputs": [
    {
     "name": "stdout",
     "output_type": "stream",
     "text": [
      " Does \"1995Debashis\" starts with 1995? True\n",
      " Does \"29Sahoo\" starts with 1995? False\n"
     ]
    }
   ],
   "source": [
    "import re\n",
    "def start_with_specific_number(string,specific_number):\n",
    "    pattern = re.compile(fr'^{re.escape(str(specific_number))}')\n",
    "    return bool(pattern.match(string))\n",
    "text1 = \"1995Debashis\"\n",
    "text2 = \"29Sahoo\"\n",
    "specific_number = 1995\n",
    "print(f' Does \"{text1}\" starts with {specific_number}? {start_with_specific_number(text1, specific_number)}')\n",
    "print(f' Does \"{text2}\" starts with {specific_number}? {start_with_specific_number(text2, specific_number)}')"
   ]
  },
  {
   "cell_type": "code",
   "execution_count": 77,
   "id": "bac5409b",
   "metadata": {},
   "outputs": [
    {
     "name": "stdout",
     "output_type": "stream",
     "text": [
      " IP address : 127.002.056.006\n",
      " cleaned IP : 127.2.56.6\n"
     ]
    }
   ],
   "source": [
    "import re\n",
    "def remove_zero_from_ip(ip_address):\n",
    "    pattern = re.compile(r'\\b0*(\\d+)\\b')\n",
    "    cleaned_ip = '.'.join([pattern.sub(r'\\1',octet)for octet in ip_address.split('.')])\n",
    "    return cleaned_ip\n",
    "ip_address = \"127.002.056.006\"\n",
    "cleaned_ip_address = remove_zero_from_ip(ip_address)\n",
    "print(f' IP address : {ip_address}')\n",
    "print(f' cleaned IP : {cleaned_ip_address}')"
   ]
  },
  {
   "cell_type": "code",
   "execution_count": 92,
   "id": "a469ce6a",
   "metadata": {},
   "outputs": [
    {
     "name": "stdout",
     "output_type": "stream",
     "text": [
      "August 15th 1947\n"
     ]
    }
   ],
   "source": [
    "import re\n",
    "def extract_date(file_path):\n",
    "    with open(file_path,'r')as file:\n",
    "        text = file.read()\n",
    "    pattern = re.compile(r'([A-Z][a-z]+ \\d{1,2}(?:st|nd|rd|th) \\d{4})')\n",
    "    matches =pattern.findall(text)\n",
    "    return matches\n",
    "text1 = \"On August 15th 1947 that India was declared independent from British colonialism, and the reins of control were handed over to the leaders of the Country.\"\n",
    "input_file_path = 'text1.txt'\n",
    "with open(input_file_path,'w')as input_file:\n",
    "    input_file.write(text1)\n",
    "dates = extract_date(input_file_path)\n",
    "for date in dates:\n",
    "    print(date)"
   ]
  },
  {
   "cell_type": "code",
   "execution_count": 106,
   "id": "c5b1f510",
   "metadata": {},
   "outputs": [
    {
     "name": "stdout",
     "output_type": "stream",
     "text": [
      " The word \"fox\" is found in the text.\n",
      " The word \"dog\" is found in the text.\n",
      " The word \"horse\" is not found in the text.\n"
     ]
    }
   ],
   "source": [
    "import re\n",
    "def search_words(text,searched_words):\n",
    "    results = {}\n",
    "    for word in searched_words:\n",
    "        pattern = re.compile(re.escape(word))\n",
    "        results[word] = bool(pattern.search(text))\n",
    "    return results\n",
    "text1 = 'The quick brown fox jumps over the lazy dog.'\n",
    "searched_words = ['fox' , 'dog' , 'horse']\n",
    "search_results = search_words(text1,searched_words)\n",
    "for word, found in search_results.items():\n",
    "    print(f' The word \"{word}\" is {\"found\" if found else \"not found\"} in the text.')"
   ]
  },
  {
   "cell_type": "code",
   "execution_count": 113,
   "id": "6c3b61c5",
   "metadata": {},
   "outputs": [
    {
     "name": "stdout",
     "output_type": "stream",
     "text": [
      " The searched word \"fox\" is found at index \"16\" in the main text.\n"
     ]
    }
   ],
   "source": [
    "import re\n",
    "def search_word_with_location(main_string,searched_word):\n",
    "    pattern = re.compile(re.escape(searched_word))\n",
    "    match = pattern.search(main_string)\n",
    "    if match:\n",
    "        return match.start()\n",
    "        \n",
    "    else:\n",
    "        return -1\n",
    "main_text = 'The quick brown fox jumps over the lazy dog.'\n",
    "searched_word = 'fox'\n",
    "location = search_word_with_location(main_text, searched_word)\n",
    "if location !=-1:\n",
    "    print(f' The searched word \"{searched_word}\" is found at index \"{location}\" in the main text.')\n",
    "else:\n",
    "    print(f' The searched word \"{searched_word}\" is not found in the main text.')"
   ]
  },
  {
   "cell_type": "code",
   "execution_count": 115,
   "id": "fb84e7b9",
   "metadata": {},
   "outputs": [
    {
     "name": "stdout",
     "output_type": "stream",
     "text": [
      " The substrings \"exercises\" are found at positions:\n",
      " - exercises\n",
      " - exercises\n",
      " - exercises\n"
     ]
    }
   ],
   "source": [
    "import re \n",
    "def find_substrings(text,pattern):\n",
    "    matches = re.finditer(pattern,text)\n",
    "    result = []\n",
    "    for match in matches:\n",
    "        start_index = match.start()\n",
    "        end_index = match.end()\n",
    "        result.append(text[start_index:end_index])\n",
    "    return result\n",
    "text = 'Python exercises, PHP exercises, C# exercises'\n",
    "substring_pattern = 'exercises'\n",
    "substring_occurrences = find_substrings(text,substring_pattern)\n",
    "print(f' The substrings \"{substring_pattern}\" are found at positions:')\n",
    "for occurrence in substring_occurrences:\n",
    "    print(f' - {occurrence}')"
   ]
  },
  {
   "cell_type": "code",
   "execution_count": 118,
   "id": "c4de01e6",
   "metadata": {},
   "outputs": [
    {
     "name": "stdout",
     "output_type": "stream",
     "text": [
      " The substring \"exercises\" occurs at the following positions:\n",
      " -> Occurrence: exercises, Position: (7, 16)\n",
      " -> Occurrence: exercises, Position: (22, 31)\n",
      " -> Occurrence: exercises, Position: (36, 45)\n"
     ]
    }
   ],
   "source": [
    "import re\n",
    "def find_substring_occurrences_and_positions(text,pattern):\n",
    "    matches = re.finditer(pattern,text)\n",
    "    occurrences = []\n",
    "    for match in matches:\n",
    "        start_index = match.start()\n",
    "        end_index = match.end()\n",
    "        occurrences.append({'substring':text[start_index:end_index],'position':(start_index,end_index)})\n",
    "    return occurrences\n",
    "text = 'Python exercises, PHP exercises, C# exercises'\n",
    "substring_pattern = 'exercises'\n",
    "substring_occurrences = find_substring_occurrences_and_positions(text,substring_pattern)\n",
    "print(f' The substring \"{substring_pattern}\" occurs at the following positions:')\n",
    "for occurrence in substring_occurrences:\n",
    "    print(f' -> Occurrence: {occurrence[\"substring\"]}, Position: {occurrence[\"position\"]}')"
   ]
  },
  {
   "cell_type": "code",
   "execution_count": 124,
   "id": "6273ced2",
   "metadata": {},
   "outputs": [
    {
     "name": "stdout",
     "output_type": "stream",
     "text": [
      " Original Date: 1995-09-29\n",
      " Converted Date: 29-09-1995\n"
     ]
    }
   ],
   "source": [
    "import re\n",
    "def convert_date_format(input_date):\n",
    "    pattern = re.compile(r'(\\d{4})-(\\d{2})-(\\d{2})')\n",
    "    output_date = pattern.sub(r'\\3-\\2-\\1',input_date)\n",
    "    return output_date\n",
    "input_date = '1995-09-29'\n",
    "output_date = convert_date_format(input_date)\n",
    "print(f' Original Date: {input_date}')\n",
    "print(f' Converted Date: {output_date}')"
   ]
  },
  {
   "cell_type": "code",
   "execution_count": 125,
   "id": "9d963d5b",
   "metadata": {},
   "outputs": [
    {
     "name": "stdout",
     "output_type": "stream",
     "text": [
      " Original text: 01.12 0132.123 2.31875 145.8 3.01 27.25 0.25\n",
      " Decimal numbers with precision 1 or 2: ['01.12', '145.8', '3.01', '27.25', '0.25']\n"
     ]
    }
   ],
   "source": [
    "import re\n",
    "def find_dec_num(input_string):\n",
    "    pattern = re.compile(r'\\b\\d+\\.\\d{1,2}\\b')\n",
    "    matches = pattern.findall(input_string)\n",
    "    return matches\n",
    "text = \"01.12 0132.123 2.31875 145.8 3.01 27.25 0.25\"\n",
    "dec_num = find_dec_num(text)\n",
    "print(f' Original text: {text}')\n",
    "print(f' Decimal numbers with precision 1 or 2: {dec_num}')"
   ]
  },
  {
   "cell_type": "code",
   "execution_count": 126,
   "id": "3e8b3bd0",
   "metadata": {},
   "outputs": [
    {
     "name": "stdout",
     "output_type": "stream",
     "text": [
      " Number: 1900, Position: 21-25\n",
      " Number: 100, Position: 59-62\n"
     ]
    }
   ],
   "source": [
    "import re\n",
    "def separate_and_print(input_string):\n",
    "    pattern = re.compile(r'\\b\\d+\\b')\n",
    "    matches = pattern.finditer(input_string)\n",
    "    for match in matches:\n",
    "        number = match.group()\n",
    "        start_position = match.start()\n",
    "        end_position = match.end()\n",
    "        print(f' Number: {number}, Position: {start_position}-{end_position}')\n",
    "text = \"The price of pen is $1900 and the total quantity of pen is 100\"\n",
    "separate_and_print(text)"
   ]
  },
  {
   "cell_type": "code",
   "execution_count": 129,
   "id": "34a62d59",
   "metadata": {},
   "outputs": [
    {
     "name": "stdout",
     "output_type": "stream",
     "text": [
      " My marks in each semester are: 947, 896, 926, 524, 734, 950, 642\n",
      " Maximum value: 950\n"
     ]
    }
   ],
   "source": [
    "import re\n",
    "def extract_maximum(input_string):\n",
    "    pattern = re.compile(r'\\b\\d+\\b')\n",
    "    num_values = map(int,pattern.findall(input_string))\n",
    "    max_value = max(num_values, default = None)\n",
    "    return max_value\n",
    "text = 'My marks in each semester are: 947, 896, 926, 524, 734, 950, 642'\n",
    "max_num_value = extract_maximum(text)\n",
    "print(f' {text}')\n",
    "print(f' Maximum value: {max_num_value}')"
   ]
  },
  {
   "cell_type": "code",
   "execution_count": 135,
   "id": "596bc1d0",
   "metadata": {},
   "outputs": [
    {
     "name": "stdout",
     "output_type": "stream",
     "text": [
      " Text without Spaces: RegularExpressionIsAnImportantTopicInPython\n",
      " Text with Spaces after Caps: Regular Expression Is An Important Topic In Python\n"
     ]
    }
   ],
   "source": [
    "import re\n",
    "def insert_space_before_caps(input_string):\n",
    "    pattern = re.compile(r'([A-Z][a-z]*)')\n",
    "    spaced_string = pattern.sub(r' \\1',input_string).strip()\n",
    "    return spaced_string\n",
    "text = 'RegularExpressionIsAnImportantTopicInPython'\n",
    "output_text = insert_space_before_caps(text)\n",
    "print(f' Text without Spaces: {text}')\n",
    "print(f' Text with Spaces after Caps: {output_text}')"
   ]
  },
  {
   "cell_type": "code",
   "execution_count": 136,
   "id": "e60dd6cb",
   "metadata": {},
   "outputs": [
    {
     "name": "stdout",
     "output_type": "stream",
     "text": [
      "['The', 'Quick', 'Brown', 'Fox', 'Jumps', 'Over', 'The', 'Lazy', 'Dog']\n"
     ]
    }
   ],
   "source": [
    "import re\n",
    "def find_sequences(input_string):\n",
    "    pattern = re.compile(r'[A-Z][a-z]*')\n",
    "    sequences = pattern.findall(input_string)\n",
    "    return sequences\n",
    "text = 'The Quick Brown Fox Jumps Over The Lazy Dog.'\n",
    "result = find_sequences(text)\n",
    "print(result)"
   ]
  },
  {
   "cell_type": "code",
   "execution_count": 143,
   "id": "9b379d6b",
   "metadata": {},
   "outputs": [
    {
     "name": "stdout",
     "output_type": "stream",
     "text": [
      " Original Text: Hello hello world world\n",
      " Cleaned Text: Hello world\n"
     ]
    }
   ],
   "source": [
    "import re\n",
    "def remove_continuous_duplicates(input_string):\n",
    "    pattern = re.compile(r'\\b(\\w+)(\\s+\\1)+\\b', flags=re.IGNORECASE)\n",
    "    result = pattern.sub(r'\\1',input_string)\n",
    "    return result\n",
    "text = \"Hello hello world world\"\n",
    "output =  remove_continuous_duplicates(text)\n",
    "print(f' Original Text: {text}')\n",
    "print(f' Cleaned Text: {output}')"
   ]
  },
  {
   "cell_type": "code",
   "execution_count": 146,
   "id": "c0b1b168",
   "metadata": {},
   "outputs": [
    {
     "name": "stdout",
     "output_type": "stream",
     "text": [
      " \"Debashis29\" ends with alphanumeric: False\n",
      " \"Sahoo@\" ends with alphanumeric: False\n"
     ]
    }
   ],
   "source": [
    "import re\n",
    "def ending_with_alphanumeric(input_string):\n",
    "    pattern = re.compile(r'\\w$')\n",
    "    match = pattern.match(input_string)\n",
    "    return bool(match)\n",
    "string_1 = \"Debashis29\"\n",
    "string_2 = \"Sahoo@\"\n",
    "print(f' \"{string_1}\" ends with alphanumeric: {ending_with_alphanumeric(string_1)}')\n",
    "print(f' \"{string_2}\" ends with alphanumeric: {ending_with_alphanumeric(string_2)}')"
   ]
  },
  {
   "cell_type": "code",
   "execution_count": 148,
   "id": "f2d26d7b",
   "metadata": {},
   "outputs": [
    {
     "name": "stdout",
     "output_type": "stream",
     "text": [
      " Extracted Hashtags: ['#Doltiwal', '#xyzabc', '#Demonetization']\n"
     ]
    }
   ],
   "source": [
    "import re\n",
    "def extract_hashtags(input_string):\n",
    "    pattern = re.compile(r'#\\w+')\n",
    "    hashtags = pattern.findall(input_string)\n",
    "    return hashtags\n",
    "text = \"\"\"RT @kapil_kausik: #Doltiwal I mean #xyzabc is \"hurt\" by #Demonetization as the same has rendered USELESS <ed><U+00A0><U+00BD><ed><U+00B1><U+0089> \"acquired funds\" No wo\"\"\"\n",
    "extracted_hashtags = extract_hashtags(text)\n",
    "print(f' Extracted Hashtags: {extracted_hashtags}')"
   ]
  },
  {
   "cell_type": "code",
   "execution_count": 152,
   "id": "f28d10f9",
   "metadata": {},
   "outputs": [
    {
     "name": "stdout",
     "output_type": "stream",
     "text": [
      " Cleaned text: @Jags123456 Bharat band on 28??<ed><ed>Those who  are protesting #demonetization  are all different party leaders\n"
     ]
    }
   ],
   "source": [
    "import re\n",
    "def remove_unicode_symbol(input_string):\n",
    "    pattern = re.compile(r'<U\\+[0-9A-Fa-f]+>')\n",
    "    cleaned_string = pattern.sub('',input_string)\n",
    "    return cleaned_string\n",
    "text = \"@Jags123456 Bharat band on 28??<ed><U+00A0><U+00BD><ed><U+00B8><U+0082>Those who  are protesting #demonetization  are all different party leaders\"\n",
    "cleaned_string = remove_unicode_symbol(text)\n",
    "print(f' Cleaned text: {cleaned_string}')"
   ]
  },
  {
   "cell_type": "code",
   "execution_count": 154,
   "id": "c977c319",
   "metadata": {},
   "outputs": [
    {
     "name": "stdout",
     "output_type": "stream",
     "text": [
      " Original Text: Ron was born on 12-09-1992 and he was admitted to school 15-12-1999.\n",
      " Extracted Dates: ['12-09-1992', '15-12-1999']\n"
     ]
    }
   ],
   "source": [
    "import re\n",
    "def extract_date_from_file(file_path):\n",
    "    with open(file_path,'r')as file:\n",
    "        content = file.read()\n",
    "        date_pattern = re.compile(r'\\b\\d{2}-\\d{2}-\\d{4}\\b')\n",
    "        dates = date_pattern.findall(content)\n",
    "        return dates\n",
    "text = \"Ron was born on 12-09-1992 and he was admitted to school 15-12-1999.\"\n",
    "file_path = 'text.txt'\n",
    "with open(file_path,'w')as file:\n",
    "    file.write(text)\n",
    "extracted_dates = extract_date_from_file(file_path)\n",
    "print(f' Original Text: {text}')\n",
    "print(f' Extracted Dates: {extracted_dates}')"
   ]
  },
  {
   "cell_type": "code",
   "execution_count": 156,
   "id": "6a394408",
   "metadata": {},
   "outputs": [
    {
     "name": "stdout",
     "output_type": "stream",
     "text": [
      " Original Text: The following example creates an ArrayList with a capacity of 50 elements. 4 elements are then added to the ArrayList and the ArrayList is trimmed accordingly.\n",
      " Cleaned Text:  following example creates  ArrayList  a capacity   elements. 4 elements   added   ArrayList   ArrayList  trimmed accordingly.\n"
     ]
    }
   ],
   "source": [
    "import re\n",
    "def remove_all_words(input_string):\n",
    "    pattern = re.compile(r'\\b\\w{2,4}\\b')\n",
    "    cleaned_string = pattern.sub('',input_string)\n",
    "    return cleaned_string\n",
    "text = \"The following example creates an ArrayList with a capacity of 50 elements. 4 elements are then added to the ArrayList and the ArrayList is trimmed accordingly.\"\n",
    "clean_str = remove_all_words(text)\n",
    "print(f' Original Text: {text}')\n",
    "print(f' Cleaned Text: {clean_str}')"
   ]
  },
  {
   "cell_type": "code",
   "execution_count": null,
   "id": "0953ab8f",
   "metadata": {},
   "outputs": [],
   "source": []
  }
 ],
 "metadata": {
  "kernelspec": {
   "display_name": "Python 3 (ipykernel)",
   "language": "python",
   "name": "python3"
  },
  "language_info": {
   "codemirror_mode": {
    "name": "ipython",
    "version": 3
   },
   "file_extension": ".py",
   "mimetype": "text/x-python",
   "name": "python",
   "nbconvert_exporter": "python",
   "pygments_lexer": "ipython3",
   "version": "3.10.9"
  }
 },
 "nbformat": 4,
 "nbformat_minor": 5
}
