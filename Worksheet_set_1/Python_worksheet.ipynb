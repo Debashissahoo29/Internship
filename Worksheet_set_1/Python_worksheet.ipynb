{
 "cells": [
  {
   "cell_type": "code",
   "execution_count": 15,
   "id": "e4aca685",
   "metadata": {},
   "outputs": [
    {
     "name": "stdout",
     "output_type": "stream",
     "text": [
      "Enter an integer : 32\n",
      "The factorial of  32 is 263130836933693530167218012160000000\n"
     ]
    }
   ],
   "source": [
    "num = int(input(\"Enter an integer : \"))\n",
    "factorial = 1\n",
    "if num < 0:\n",
    "    print(\"Factorial doesn't exist for negative integer\")\n",
    "elif num == 0:\n",
    "    print(\"The factorial of 0 is 1\")\n",
    "else:\n",
    "    for i in range(1,num+1):\n",
    "        factorial = factorial*i\n",
    "    print(\"The factorial of \",num, \"is\",factorial)"
   ]
  },
  {
   "cell_type": "code",
   "execution_count": 19,
   "id": "92681d99",
   "metadata": {},
   "outputs": [
    {
     "name": "stdout",
     "output_type": "stream",
     "text": [
      "Enter a number : 3\n",
      "3 is a prime number.\n"
     ]
    }
   ],
   "source": [
    "num = int(input(\"Enter a number : \"))\n",
    "flag = False\n",
    "if num == 1:\n",
    "    print(num, \"is not a prime number\")\n",
    "elif num > 1:\n",
    "    for i in range (2, num):\n",
    "        if (num % i)==0:\n",
    "            flag = True\n",
    "            break\n",
    "    if flag:\n",
    "        print (num, \"is not a prime number.\")\n",
    "    else:\n",
    "        print (num, \"is a prime number.\")"
   ]
  },
  {
   "cell_type": "code",
   "execution_count": 23,
   "id": "507b3462",
   "metadata": {},
   "outputs": [
    {
     "name": "stdout",
     "output_type": "stream",
     "text": [
      "The string is a Palindrome\n"
     ]
    }
   ],
   "source": [
    "my_str =\"wow\"\n",
    "my_str = my_str.casefold()\n",
    "rev_str = reversed(my_str)\n",
    "if list (my_str) == list (rev_str):\n",
    "    print(\"The string is a Palindrome\")\n",
    "else:\n",
    "    print(\"The string is not a Palindrome\")"
   ]
  },
  {
   "cell_type": "code",
   "execution_count": 24,
   "id": "8ebacb79",
   "metadata": {},
   "outputs": [
    {
     "name": "stdout",
     "output_type": "stream",
     "text": [
      "20.591260281974\n"
     ]
    }
   ],
   "source": [
    "def leg (a,b):\n",
    "    c = (a**2+b**2)**0.5\n",
    "    return c\n",
    "print(leg(10,18))"
   ]
  },
  {
   "cell_type": "code",
   "execution_count": 32,
   "id": "ab5c91d8",
   "metadata": {},
   "outputs": [
    {
     "name": "stdout",
     "output_type": "stream",
     "text": [
      " \n",
      "{'D': 1, 'e': 1, 'b': 1, 'a': 2, 's': 3, 'h': 2, 'i': 1, '_': 1, 'o': 2}\n"
     ]
    }
   ],
   "source": [
    "string = \"Debashis_sahoo\"\n",
    "all_freq = {}\n",
    "for i in string:\n",
    "    if i in all_freq:\n",
    "        all_freq[i]+=1\n",
    "    else:\n",
    "        all_freq[i] = 1\n",
    "print(\" \\n\"+str(all_freq))"
   ]
  },
  {
   "cell_type": "code",
   "execution_count": null,
   "id": "111cae21",
   "metadata": {},
   "outputs": [],
   "source": []
  }
 ],
 "metadata": {
  "kernelspec": {
   "display_name": "Python 3 (ipykernel)",
   "language": "python",
   "name": "python3"
  },
  "language_info": {
   "codemirror_mode": {
    "name": "ipython",
    "version": 3
   },
   "file_extension": ".py",
   "mimetype": "text/x-python",
   "name": "python",
   "nbconvert_exporter": "python",
   "pygments_lexer": "ipython3",
   "version": "3.10.9"
  }
 },
 "nbformat": 4,
 "nbformat_minor": 5
}
